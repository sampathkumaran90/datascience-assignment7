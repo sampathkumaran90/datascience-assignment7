{
 "cells": [
  {
   "cell_type": "code",
   "execution_count": 15,
   "metadata": {},
   "outputs": [
    {
     "name": "stdout",
     "output_type": "stream",
     "text": [
      "Enter Side 1 : 2\n",
      "Enter Side 2 : 3\n",
      "Enter Side 3 : 3\n",
      "Area of a triangle is: 2.8284271247461903\n"
     ]
    }
   ],
   "source": [
    "class Polygon:\n",
    "    def __init__(self, no_of_sides):\n",
    "        self.no_of_sides = no_of_sides\n",
    "        self.sides = [0 for i in range(no_of_sides)]\n",
    "    \n",
    "    def inputSides(self):\n",
    "        self.sides = [float(input(\"Enter Side \"+str(i+1)+\" : \")) for i in range(self.no_of_sides)]\n",
    "        \n",
    "    def printSides(self):\n",
    "        for i, val in enumerate(self.sides):\n",
    "            print(\"Side {0} is {1}\".format(i+1, self.sides[i]))\n",
    "            \n",
    "class Triangle(Polygon):\n",
    "    def __init__(self):\n",
    "        Polygon.__init__(self, 3)\n",
    "        \n",
    "    def findArea(self):\n",
    "        a, b, c = self.sides\n",
    "        s = (a + b + c) / 2\n",
    "        self.area = (s*(s-a)*(s-b)*(s-c)) ** 0.5\n",
    "        print(\"Area of a triangle is: {0}\".format(self.area))\n",
    "            \n",
    "tri = Triangle()\n",
    "tri.inputSides()\n",
    "tri.findArea()"
   ]
  },
  {
   "cell_type": "code",
   "execution_count": null,
   "metadata": {
    "collapsed": true
   },
   "outputs": [],
   "source": []
  }
 ],
 "metadata": {
  "kernelspec": {
   "display_name": "Python 3",
   "language": "python",
   "name": "python3"
  },
  "language_info": {
   "codemirror_mode": {
    "name": "ipython",
    "version": 3
   },
   "file_extension": ".py",
   "mimetype": "text/x-python",
   "name": "python",
   "nbconvert_exporter": "python",
   "pygments_lexer": "ipython3",
   "version": "3.6.3"
  }
 },
 "nbformat": 4,
 "nbformat_minor": 2
}
