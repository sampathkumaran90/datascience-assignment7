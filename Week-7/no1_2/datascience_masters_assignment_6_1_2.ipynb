{
 "cells": [
  {
   "cell_type": "code",
   "execution_count": 1,
   "metadata": {},
   "outputs": [
    {
     "name": "stdout",
     "output_type": "stream",
     "text": [
      "Count is: 2\n"
     ]
    }
   ],
   "source": [
    "def filter_long_words(word_list, length):\n",
    "    count = 0;\n",
    "    for word in word_list:\n",
    "        if (len(word) > length):\n",
    "            count = count + 1\n",
    "    print('Count is: {0}'.format(count))\n",
    "    \n",
    "word_list = ['apple', 'boy', 'cat', 'dog', 'elephant']\n",
    "length = 3\n",
    "filter_long_words(word_list, length)"
   ]
  },
  {
   "cell_type": "code",
   "execution_count": null,
   "metadata": {
    "collapsed": true
   },
   "outputs": [],
   "source": []
  }
 ],
 "metadata": {
  "kernelspec": {
   "display_name": "Python 3",
   "language": "python",
   "name": "python3"
  },
  "language_info": {
   "codemirror_mode": {
    "name": "ipython",
    "version": 3
   },
   "file_extension": ".py",
   "mimetype": "text/x-python",
   "name": "python",
   "nbconvert_exporter": "python",
   "pygments_lexer": "ipython3",
   "version": "3.6.3"
  }
 },
 "nbformat": 4,
 "nbformat_minor": 2
}
